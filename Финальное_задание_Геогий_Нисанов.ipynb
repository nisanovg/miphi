{
  "nbformat": 4,
  "nbformat_minor": 0,
  "metadata": {
    "colab": {
      "provenance": []
    },
    "kernelspec": {
      "name": "python3",
      "display_name": "Python 3"
    },
    "language_info": {
      "name": "python"
    }
  },
  "cells": [
    {
      "cell_type": "markdown",
      "source": [
        "Привет!\n",
        "Высылаю последнее задание по курсу.\n",
        "Спойлер: Решил так, как понял. Пришлось перечитать несколько раз, чтобы понять, что именно ожидается как результат. Очень большая просьба в будущем давать задания понятнее, так как на курсе разных уровень подготовки у студентов. 🫀"
      ],
      "metadata": {
        "id": "hsDrPXJidQlD"
      }
    },
    {
      "cell_type": "code",
      "execution_count": 1,
      "metadata": {
        "id": "MXXTuy_o0sjk",
        "colab": {
          "base_uri": "https://localhost:8080/"
        },
        "outputId": "19041d4f-911d-457a-c736-951391b9640d"
      },
      "outputs": [
        {
          "output_type": "stream",
          "name": "stdout",
          "text": [
            "\u001b[?25l     \u001b[90m━━━━━━━━━━━━━━━━━━━━━━━━━━━━━━━━━━━━━━━━\u001b[0m \u001b[32m0.0/156.5 kB\u001b[0m \u001b[31m?\u001b[0m eta \u001b[36m-:--:--\u001b[0m\r\u001b[2K     \u001b[90m━━━━━━━━━━━━━━━━━━━━━━━━━━━━━━━━━━━━━━━━\u001b[0m \u001b[32m156.5/156.5 kB\u001b[0m \u001b[31m4.5 MB/s\u001b[0m eta \u001b[36m0:00:00\u001b[0m\n",
            "\u001b[?25h  Preparing metadata (setup.py) ... \u001b[?25l\u001b[?25hdone\n",
            "\u001b[2K   \u001b[90m━━━━━━━━━━━━━━━━━━━━━━━━━━━━━━━━━━━━━━━━\u001b[0m \u001b[32m1.3/1.3 MB\u001b[0m \u001b[31m12.6 MB/s\u001b[0m eta \u001b[36m0:00:00\u001b[0m\n",
            "\u001b[2K   \u001b[90m━━━━━━━━━━━━━━━━━━━━━━━━━━━━━━━━━━━━━━━━\u001b[0m \u001b[32m953.8/953.8 kB\u001b[0m \u001b[31m40.7 MB/s\u001b[0m eta \u001b[36m0:00:00\u001b[0m\n",
            "\u001b[2K   \u001b[90m━━━━━━━━━━━━━━━━━━━━━━━━━━━━━━━━━━━━━━━━\u001b[0m \u001b[32m840.2/840.2 kB\u001b[0m \u001b[31m33.2 MB/s\u001b[0m eta \u001b[36m0:00:00\u001b[0m\n",
            "\u001b[2K   \u001b[90m━━━━━━━━━━━━━━━━━━━━━━━━━━━━━━━━━━━━━━━━\u001b[0m \u001b[32m178.7/178.7 kB\u001b[0m \u001b[31m10.7 MB/s\u001b[0m eta \u001b[36m0:00:00\u001b[0m\n",
            "\u001b[?25h  Building wheel for chess (setup.py) ... \u001b[?25l\u001b[?25hdone\n"
          ]
        }
      ],
      "source": [
        "!pip install -q -U kaggle_environments"
      ]
    },
    {
      "cell_type": "code",
      "source": [
        "import numpy as np\n",
        "import pandas as pd\n",
        "import random\n",
        "\n",
        "import matplotlib.pyplot as plt\n",
        "import seaborn as sns\n",
        "\n",
        "from kaggle_environments import make, evaluate"
      ],
      "metadata": {
        "id": "yz23vWHD0wcj"
      },
      "execution_count": 2,
      "outputs": []
    },
    {
      "cell_type": "markdown",
      "source": [
        "Опишем поведение агента, всегда играющего \"камень\" - это значение 0"
      ],
      "metadata": {
        "id": "0kuo6IOxiRub"
      }
    },
    {
      "cell_type": "code",
      "source": [
        "%%writefile rock_agent.py\n",
        "\n",
        "#Example of the simple agent\n",
        "#0 - rock\n",
        "#1 - paper\n",
        "#2 - scissors\n",
        "def your_agent(observation, configuration):\n",
        "    return 0"
      ],
      "metadata": {
        "id": "bqTqV7B92rJ6",
        "outputId": "a254750d-93e3-4300-be4b-9e29df4d0076",
        "colab": {
          "base_uri": "https://localhost:8080/"
        }
      },
      "execution_count": 3,
      "outputs": [
        {
          "output_type": "stream",
          "name": "stdout",
          "text": [
            "Writing rock_agent.py\n"
          ]
        }
      ]
    },
    {
      "cell_type": "markdown",
      "source": [
        "Попробуем теперь использовать информацию о прошлых действиях противника. Опишем агента, который производит то же самое действие, что и оппонент на прошлом ходу"
      ],
      "metadata": {
        "id": "et1J5hUGigeh"
      }
    },
    {
      "cell_type": "code",
      "source": [
        "%%writefile copy_opponent.py\n",
        "\n",
        "#Example\n",
        "def copy_opponent(observation, configuration):\n",
        "    #in case we have information about opponent last move\n",
        "    if observation.step > 0:\n",
        "        return observation.lastOpponentAction\n",
        "    #initial step\n",
        "    else:\n",
        "        return random.randrange(0, configuration.signs)"
      ],
      "metadata": {
        "id": "7l6Ttw6qi0jk",
        "outputId": "9e68b5e6-76fd-4bf5-a702-5bfd390ab9da",
        "colab": {
          "base_uri": "https://localhost:8080/"
        }
      },
      "execution_count": 4,
      "outputs": [
        {
          "output_type": "stream",
          "name": "stdout",
          "text": [
            "Writing copy_opponent.py\n"
          ]
        }
      ]
    },
    {
      "cell_type": "markdown",
      "source": [
        "Воспользуемся функцией evaluate из библиотеки kaggle_environments с помощью которой запустим наших агентов и проведем эксперимент на заданном количестве игр"
      ],
      "metadata": {
        "id": "ExgIpXUVjbjN"
      }
    },
    {
      "cell_type": "code",
      "source": [
        "evaluate(\n",
        "    \"rps\", #environment to use - no need to change\n",
        "    [\"rock_agent.py\", \"copy_opponent.py\"], #agents to evaluate\n",
        "    configuration={\"episodeSteps\": 100} #number of episodes\n",
        ")"
      ],
      "metadata": {
        "id": "wv6Ip6M004xa",
        "outputId": "b0e73153-b3d1-4f06-cfda-a2d01b8d11b6",
        "colab": {
          "base_uri": "https://localhost:8080/"
        }
      },
      "execution_count": 5,
      "outputs": [
        {
          "output_type": "execute_result",
          "data": {
            "text/plain": [
              "[[1, None]]"
            ]
          },
          "metadata": {},
          "execution_count": 5
        }
      ]
    },
    {
      "cell_type": "code",
      "source": [
        "evaluate(\n",
        "    \"rps\", #environment to use - no need to change\n",
        "    [\"rock_agent.py\", \"paper\"], #agents to evaluate\n",
        "    configuration={\"episodeSteps\": 100} #number of episodes\n",
        ")"
      ],
      "metadata": {
        "id": "FC6_QWe9k3rr",
        "outputId": "aae3fe7b-a124-4f4d-bfd7-ce94f077d792",
        "colab": {
          "base_uri": "https://localhost:8080/"
        }
      },
      "execution_count": 25,
      "outputs": [
        {
          "output_type": "execute_result",
          "data": {
            "text/plain": [
              "[[-99.0, 99.0]]"
            ]
          },
          "metadata": {},
          "execution_count": 25
        }
      ]
    },
    {
      "cell_type": "markdown",
      "source": [
        "Описание агентов:\n",
        "\n",
        "`rock_agent.py`– агент, всегда выбирающий \"камень\".\n",
        "\n",
        "`paper_agent.py` – агент, всегда выбирающий \"бумагу\".\n",
        "\n",
        "`scissors_agent.py` – агент, всегда выбирающий \"ножницы\".\n",
        "\n",
        "`random_agent.py` – агент, который выбирает случайный ход на каждом шаге.\n",
        "\n",
        "`copy_opponent.py` – агент, который копирует действие противника.\n",
        "\n",
        "`cycle_agent.py` – агент, который по очереди выбирает \"камень\", \"бумагу\" и \"ножницы\" циклически.\n",
        "\n",
        "`anti_copy_agent.py` – агент, который всегда выбирает контр-ход на предыдущий ход противника (выигрывающий ход).\n",
        "\n",
        "`biased_rock_agent.py` – агент, который с большей вероятностью выбирает \"камень\", но иногда случайно выбирает другие действия.\n",
        "\n",
        "`mirror_agent.py` – агент, который на текущем шаге делает ход, который противник сделал 2 шага назад.\n",
        "\n",
        "`opposite_last_agent.py` – агент, который всегда выбирает противоположный ход к предыдущему ходу противника.\n",
        "\n",
        "`frequency_counter_agent.py` – агент, который анализирует, какое действие противник использует чаще всего, и выбирает контр-стратегию.\n",
        "\n",
        "`random_pattern_agent.py` – агент, который случайно выбирает одно из заранее заданных последовательностей действий (например, [0, 1, 2] или [2, 0, 1]).\n",
        "\n",
        "`win_streak_agent.py` – агент, который повторяет свой последний выигрышный ход, если он побеждает, или делает случайный ход, если проигрывает."
      ],
      "metadata": {
        "id": "Zr-mC2NpfNTV"
      }
    },
    {
      "cell_type": "code",
      "source": [
        "%%writefile paper_agent.py\n",
        "\n",
        "def paper_agent(observation, configuration):\n",
        "    return 1  # всегда выбирает \"бумагу\""
      ],
      "metadata": {
        "colab": {
          "base_uri": "https://localhost:8080/"
        },
        "id": "pb_aP6t7fvyi",
        "outputId": "12e84d33-fc65-41cc-ee64-9ad52c5d38d1"
      },
      "execution_count": 7,
      "outputs": [
        {
          "output_type": "stream",
          "name": "stdout",
          "text": [
            "Writing paper_agent.py\n"
          ]
        }
      ]
    },
    {
      "cell_type": "code",
      "source": [
        "%%writefile scissors_agent.py\n",
        "\n",
        "def scissors_agent(observation, configuration):\n",
        "    return 2  # всегда выбирает \"ножницы\""
      ],
      "metadata": {
        "colab": {
          "base_uri": "https://localhost:8080/"
        },
        "id": "IPh1Tkzrf35h",
        "outputId": "9790cf51-f8e9-4976-a1f3-f944ec4e6a50"
      },
      "execution_count": 8,
      "outputs": [
        {
          "output_type": "stream",
          "name": "stdout",
          "text": [
            "Writing scissors_agent.py\n"
          ]
        }
      ]
    },
    {
      "cell_type": "code",
      "source": [
        "%%writefile random_agent.py\n",
        "\n",
        "import random\n",
        "def random_agent(observation, configuration):\n",
        "    return random.randrange(0, configuration.signs)  # случайный выбор\n"
      ],
      "metadata": {
        "colab": {
          "base_uri": "https://localhost:8080/"
        },
        "id": "S3NYE19Df7nF",
        "outputId": "6bab6141-2138-4343-f4b4-df207bb02eb1"
      },
      "execution_count": 9,
      "outputs": [
        {
          "output_type": "stream",
          "name": "stdout",
          "text": [
            "Writing random_agent.py\n"
          ]
        }
      ]
    },
    {
      "cell_type": "code",
      "source": [
        "%%writefile cycle_agent.py\n",
        "\n",
        "def cycle_agent(observation, configuration):\n",
        "    return observation.step % 3  # циклический выбор \"камень\", \"бумага\", \"ножницы\"\n"
      ],
      "metadata": {
        "colab": {
          "base_uri": "https://localhost:8080/"
        },
        "id": "98WZpo9Cf73b",
        "outputId": "1357f298-9cff-4730-8595-56cd9ad6f5b3"
      },
      "execution_count": 10,
      "outputs": [
        {
          "output_type": "stream",
          "name": "stdout",
          "text": [
            "Writing cycle_agent.py\n"
          ]
        }
      ]
    },
    {
      "cell_type": "code",
      "source": [
        "%%writefile anti_copy_agent.py\n",
        "\n",
        "def anti_copy_agent(observation, configuration):\n",
        "    if observation.step > 0:\n",
        "        return (observation.lastOpponentAction + 1) % 3  # выбирает контр-ход\n",
        "    else:\n",
        "        return random.randrange(0, configuration.signs)\n"
      ],
      "metadata": {
        "colab": {
          "base_uri": "https://localhost:8080/"
        },
        "id": "2pPwekw0f8DZ",
        "outputId": "ce15512c-92ae-465d-961e-7348db85fa3d"
      },
      "execution_count": 11,
      "outputs": [
        {
          "output_type": "stream",
          "name": "stdout",
          "text": [
            "Writing anti_copy_agent.py\n"
          ]
        }
      ]
    },
    {
      "cell_type": "code",
      "source": [
        "%%writefile biased_rock_agent.py\n",
        "\n",
        "import random\n",
        "def biased_rock_agent(observation, configuration):\n",
        "    # 70% вероятность выбора \"камень\", 30% случайного выбора\n",
        "    return 0 if random.random() < 0.7 else random.randrange(0, configuration.signs)\n"
      ],
      "metadata": {
        "colab": {
          "base_uri": "https://localhost:8080/"
        },
        "id": "bhQWaMHbf8Pq",
        "outputId": "b0a3adff-c0f2-44e3-d05b-381d2a436732"
      },
      "execution_count": 12,
      "outputs": [
        {
          "output_type": "stream",
          "name": "stdout",
          "text": [
            "Writing biased_rock_agent.py\n"
          ]
        }
      ]
    },
    {
      "cell_type": "code",
      "source": [
        "%%writefile mirror_agent.py\n",
        "\n",
        "def mirror_agent(observation, configuration):\n",
        "    if observation.step >= 2:\n",
        "        return observation['agentReward'][-2]  # повторяет ход 2 шага назад\n",
        "    else:\n",
        "        return random.randrange(0, configuration.signs)\n"
      ],
      "metadata": {
        "colab": {
          "base_uri": "https://localhost:8080/"
        },
        "id": "U4-2X5ddf8dL",
        "outputId": "21913d02-16c7-4943-d3b1-6e7cbc681afb"
      },
      "execution_count": 13,
      "outputs": [
        {
          "output_type": "stream",
          "name": "stdout",
          "text": [
            "Writing mirror_agent.py\n"
          ]
        }
      ]
    },
    {
      "cell_type": "code",
      "source": [
        "%%writefile opposite_last_agent.py\n",
        "\n",
        "def opposite_last_agent(observation, configuration):\n",
        "    if observation.step > 0:\n",
        "        return (observation.lastOpponentAction + 2) % 3  # противоположный ход к последнему\n",
        "    else:\n",
        "        return random.randrange(0, configuration.signs)\n"
      ],
      "metadata": {
        "colab": {
          "base_uri": "https://localhost:8080/"
        },
        "id": "OXWwQy_bgLqO",
        "outputId": "b857f1bd-7f3c-44dd-9365-9cdb3a2edefa"
      },
      "execution_count": 14,
      "outputs": [
        {
          "output_type": "stream",
          "name": "stdout",
          "text": [
            "Writing opposite_last_agent.py\n"
          ]
        }
      ]
    },
    {
      "cell_type": "code",
      "source": [
        "%%writefile frequency_counter_agent.py\n",
        "\n",
        "def frequency_counter_agent(observation, configuration):\n",
        "    if observation.step == 0:\n",
        "        return random.randrange(0, configuration.signs)\n",
        "\n",
        "    counts = [0, 0, 0]\n",
        "    for i in range(observation.step):\n",
        "        counts[observation.lastOpponentAction] += 1\n",
        "    return (counts.index(max(counts)) + 1) % 3  # выбирает ход против самого частого действия\n"
      ],
      "metadata": {
        "colab": {
          "base_uri": "https://localhost:8080/"
        },
        "id": "vZPOQSuKgL3G",
        "outputId": "7624bedc-6030-46c2-9852-0ef4d5b11f5f"
      },
      "execution_count": 15,
      "outputs": [
        {
          "output_type": "stream",
          "name": "stdout",
          "text": [
            "Writing frequency_counter_agent.py\n"
          ]
        }
      ]
    },
    {
      "cell_type": "code",
      "source": [
        "%%writefile win_streak_agent.py\n",
        "\n",
        "import random\n",
        "\n",
        "def win_streak_agent(observation, configuration):\n",
        "    if observation.step == 0:\n",
        "        return random.randrange(0, configuration.signs)\n",
        "\n",
        "    if observation.reward > 0:  # если выиграл, повторяет свой последний ход\n",
        "        return observation.agentReward\n",
        "    else:\n",
        "        return random.randrange(0, configuration.signs)  # случайный ход, если проиграл"
      ],
      "metadata": {
        "colab": {
          "base_uri": "https://localhost:8080/"
        },
        "id": "IdNop_ZOgME5",
        "outputId": "b8c713af-29f5-4f63-8bce-1dfd12ab3a57"
      },
      "execution_count": 16,
      "outputs": [
        {
          "output_type": "stream",
          "name": "stdout",
          "text": [
            "Writing win_streak_agent.py\n"
          ]
        }
      ]
    },
    {
      "cell_type": "code",
      "source": [
        "%%writefile random_pattern_agent.py\n",
        "\n",
        "import random\n",
        "\n",
        "def random_pattern_agent(observation, configuration):\n",
        "    patterns = [\n",
        "        [0, 1, 2],  # камень, бумага, ножницы\n",
        "        [1, 2, 0],  # бумага, ножницы, камень\n",
        "        [2, 0, 1]   # ножницы, камень, бумага\n",
        "    ]\n",
        "    pattern = random.choice(patterns)\n",
        "    return pattern[observation.step % len(pattern)]  # выбирает ход из случайного паттерна\n"
      ],
      "metadata": {
        "colab": {
          "base_uri": "https://localhost:8080/"
        },
        "id": "eGpqwB2lgoi9",
        "outputId": "aaa7142f-0f43-4e11-e9cf-43689da881d2"
      },
      "execution_count": 17,
      "outputs": [
        {
          "output_type": "stream",
          "name": "stdout",
          "text": [
            "Writing random_pattern_agent.py\n"
          ]
        }
      ]
    },
    {
      "cell_type": "code",
      "source": [
        "%%writefile counter_random_agent.py\n",
        "\n",
        "import random\n",
        "\n",
        "def counter_random_agent(observation, configuration):\n",
        "    # против случайного агента вероятности равны для каждого хода\n",
        "    # мы выбираем случайный контр-ход\n",
        "    return random.choice([0, 1, 2])\n"
      ],
      "metadata": {
        "colab": {
          "base_uri": "https://localhost:8080/"
        },
        "id": "_DbNYTL8goxz",
        "outputId": "20c7e819-e0d9-4a91-9e3f-4804b9ab5d78"
      },
      "execution_count": 18,
      "outputs": [
        {
          "output_type": "stream",
          "name": "stdout",
          "text": [
            "Writing counter_random_agent.py\n"
          ]
        }
      ]
    },
    {
      "cell_type": "code",
      "source": [
        "def last_two_opponent_moves_agent(observation, configuration):\n",
        "    # Если есть информация о предыдущем ходе\n",
        "    if observation.step == 0:\n",
        "        return 0  # Выбор первого хода (например, камень)\n",
        "\n",
        "    # Инициализируем историю ходов\n",
        "    if not hasattr(last_two_opponent_moves_agent, \"last_moves\"):\n",
        "        last_two_opponent_moves_agent.last_moves = [None, None]\n",
        "\n",
        "    # Обновляем историю ходов\n",
        "    last_two_opponent_moves_agent.last_moves[0] = last_two_opponent_moves_agent.last_moves[1]\n",
        "    last_two_opponent_moves_agent.last_moves[1] = observation.lastOpponentAction\n",
        "\n",
        "    # Если соперник уже сделал два хода\n",
        "    if last_two_opponent_moves_agent.last_moves[0] is not None:\n",
        "        # Выбираем ход на основе последних двух ходов соперника\n",
        "        return (last_two_opponent_moves_agent.last_moves[1] + 1) % 3  # counter-move\n",
        "    else:\n",
        "        return 0  # Если информации недостаточно, выбираем камень\n"
      ],
      "metadata": {
        "id": "Av9srOVAkfRc"
      },
      "execution_count": 34,
      "outputs": []
    },
    {
      "cell_type": "code",
      "source": [
        "from kaggle_environments import evaluate\n",
        "\n",
        "# Список всех агентов с их именами файлов\n",
        "agents = [\n",
        "    \"rock_agent.py\",            # Агент, который всегда выбирает камень\n",
        "    \"paper_agent.py\",           # Агент, который всегда выбирает бумагу\n",
        "    \"scissors_agent.py\",        # Агент, который всегда выбирает ножницы\n",
        "    \"random_agent.py\",          # Агент, который выбирает случайный ход\n",
        "    \"cycle_agent.py\",           # Агент, который делает ход по кругу\n",
        "    \"anti_copy_agent.py\",       # Агент, который противодействует предыдущему ходу\n",
        "    \"biased_rock_agent.py\",     # Агент, который делает больший акцент на камень\n",
        "    \"mirror_agent.py\",          # Агент, который копирует ход соперника\n",
        "    \"opposite_last_agent.py\",   # Агент, который выбирает противоположный ход соперника\n",
        "    \"frequency_counter_agent.py\", # Агент, который выбирает ход на основе статистики предыдущих ходов\n",
        "    \"win_streak_agent.py\",      # Агент, который пытается выиграть по несколько раз подряд\n",
        "    \"counter_random_agent.py\",  # Агент, который реагирует на случайные ходы соперника\n",
        "    # \"last_two_opponent_moves_agent.py\"  # Исключите проблемный агент\n",
        "]\n",
        "\n",
        "# Результаты турнира\n",
        "scoreboard = {agent: 0 for agent in agents}\n",
        "\n",
        "# Провести турниры между всеми парами агентов\n",
        "for i in range(len(agents)):\n",
        "    for j in range(i + 1, len(agents)):\n",
        "        agent1 = agents[i]\n",
        "        agent2 = agents[j]\n",
        "\n",
        "        try:\n",
        "            # Получаем результаты для 100 игр\n",
        "            results = evaluate(\n",
        "                \"rps\",  # среда для игры (камень-ножницы-бумага)\n",
        "                [agent1, agent2],  # два агента\n",
        "                configuration={\"episodeSteps\": 100}  # количество игр\n",
        "            )\n",
        "\n",
        "            # Суммируем результаты для каждого агента, игнорируя None\n",
        "            total_score_agent1 = sum(result[0] for result in results if result[0] is not None)\n",
        "            total_score_agent2 = sum(result[1] for result in results if result[1] is not None)\n",
        "\n",
        "            scoreboard[agent1] += total_score_agent1\n",
        "            scoreboard[agent2] += total_score_agent2\n",
        "\n",
        "        except Exception as e:\n",
        "            print(f\"Ошибка при запуске агентов {agent1} и {agent2}: {e}\")\n",
        "\n",
        "# Вывод результатов турнира\n",
        "print(\"Результаты турнира:\")\n",
        "for agent, score in scoreboard.items():\n",
        "    print(f\"{agent}: {score} очков\")\n",
        "\n",
        "\n",
        "\n"
      ],
      "metadata": {
        "colab": {
          "base_uri": "https://localhost:8080/"
        },
        "id": "9C2LfK9yhCwF",
        "outputId": "addc00f8-5a6f-42aa-a6d6-46993291db3d"
      },
      "execution_count": 35,
      "outputs": [
        {
          "output_type": "stream",
          "name": "stdout",
          "text": [
            "Результаты турнира:\n",
            "rock_agent.py: 5.0 очков\n",
            "paper_agent.py: 78.0 очков\n",
            "scissors_agent.py: -69.0 очков\n",
            "random_agent.py: 5 очков\n",
            "cycle_agent.py: 5 очков\n",
            "anti_copy_agent.py: 0 очков\n",
            "biased_rock_agent.py: 6.0 очков\n",
            "mirror_agent.py: 0 очков\n",
            "opposite_last_agent.py: 0 очков\n",
            "frequency_counter_agent.py: 0 очков\n",
            "win_streak_agent.py: 4 очков\n",
            "counter_random_agent.py: 5 очков\n"
          ]
        }
      ]
    }
  ]
}